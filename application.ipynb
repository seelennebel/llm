{
 "cells": [
  {
   "cell_type": "code",
   "execution_count": 2,
   "metadata": {},
   "outputs": [
    {
     "name": "stderr",
     "output_type": "stream",
     "text": [
      "c:\\Users\\seelennebel\\dev\\llm\\llm-kernel\\Lib\\site-packages\\tqdm\\auto.py:21: TqdmWarning: IProgress not found. Please update jupyter and ipywidgets. See https://ipywidgets.readthedocs.io/en/stable/user_install.html\n",
      "  from .autonotebook import tqdm as notebook_tqdm\n"
     ]
    }
   ],
   "source": [
    "from transformers import AutoTokenizer\n",
    "from transformers import DistilBertForTokenClassification\n",
    "import torch\n",
    "from labels import id2label"
   ]
  },
  {
   "cell_type": "code",
   "execution_count": 3,
   "metadata": {},
   "outputs": [],
   "source": [
    "import gradio as gr"
   ]
  },
  {
   "cell_type": "code",
   "execution_count": 4,
   "metadata": {},
   "outputs": [],
   "source": [
    "tokenizer = AutoTokenizer.from_pretrained(\"seelennebel/AM_tokenizer\")    \n",
    "model = DistilBertForTokenClassification.from_pretrained(\"seelennebel/AM\")"
   ]
  },
  {
   "cell_type": "code",
   "execution_count": 5,
   "metadata": {},
   "outputs": [],
   "source": [
    "def output_AM(text):\n",
    "    inputs = tokenizer(text, return_tensors=\"pt\", truncation=True, padding=True, max_length=512)\n",
    "    outputs = model(**inputs)\n",
    "    probabilities = torch.nn.functional.softmax(outputs.logits, dim=-1)\n",
    "    predicted_labels = torch.argmax(probabilities, dim=-1)\n",
    "    predicted_classes = []\n",
    "    for value in predicted_labels[0]:\n",
    "        predicted_classes.append(id2label[int(value)])\n",
    "\n",
    "    decoded_tokens = []\n",
    "    decoded_text = \"\"\n",
    "    for i, input_id in enumerate(inputs[\"input_ids\"][0]):\n",
    "        if predicted_labels[0][i] != 0:\n",
    "            decoded_tokens.append(id2label[int(predicted_labels[0][i])])\n",
    "        else:\n",
    "            decoded_tokens.append(tokenizer.decode(input_id))\n",
    "\n",
    "    truncated_decoded_tokens = []\n",
    "\n",
    "    for token in decoded_tokens:\n",
    "        if token == \"[CLS]\" or token == \"[SEP]\":\n",
    "            continue\n",
    "        if token[:2] == \"I-\" and token in id2label.values():\n",
    "            continue \n",
    "        else:\n",
    "            truncated_decoded_tokens.append(token)\n",
    "\n",
    "    decoded_text = tokenizer.convert_tokens_to_string(truncated_decoded_tokens)\n",
    "\n",
    "    return decoded_text\n"
   ]
  },
  {
   "cell_type": "code",
   "execution_count": null,
   "metadata": {},
   "outputs": [],
   "source": [
    "interface = gr.Interface(\n",
    "    fn=output_AM,\n",
    "    inputs=gr.Textbox(lines=5, placeholder=\"Enter text to be masked\"),\n",
    "    outputs=\"text\",\n",
    "    title=\"AM\",\n",
    "    description=\"Enter text that contains personally identifiable information (we will not steal your data). The model will output the masked text.\"\n",
    ")"
   ]
  },
  {
   "cell_type": "code",
   "execution_count": null,
   "metadata": {},
   "outputs": [],
   "source": [
    "interface.launch()"
   ]
  }
 ],
 "metadata": {
  "kernelspec": {
   "display_name": "llm-kernel",
   "language": "python",
   "name": "python3"
  },
  "language_info": {
   "codemirror_mode": {
    "name": "ipython",
    "version": 3
   },
   "file_extension": ".py",
   "mimetype": "text/x-python",
   "name": "python",
   "nbconvert_exporter": "python",
   "pygments_lexer": "ipython3",
   "version": "3.13.2"
  }
 },
 "nbformat": 4,
 "nbformat_minor": 2
}
