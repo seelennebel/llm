{
 "cells": [
  {
   "cell_type": "code",
   "execution_count": 14,
   "metadata": {},
   "outputs": [],
   "source": [
    "from transformers import AutoTokenizer\n",
    "from transformers import DistilBertForTokenClassification\n",
    "import torch\n",
    "from labels import id2label"
   ]
  },
  {
   "cell_type": "code",
   "execution_count": 15,
   "metadata": {},
   "outputs": [],
   "source": [
    "tokenizer = AutoTokenizer.from_pretrained(\"seelennebel/AM_tokenizer\")    \n",
    "model = DistilBertForTokenClassification.from_pretrained(\"seelennebel/AM\")"
   ]
  },
  {
   "cell_type": "code",
   "execution_count": 16,
   "metadata": {},
   "outputs": [],
   "source": [
    "def output_AM(text):\n",
    "    inputs = tokenizer(text, return_tensors=\"pt\", truncation=True, padding=True, max_length=512)\n",
    "    outputs = model(**inputs)\n",
    "\n",
    "    probabilities = torch.nn.functional.softmax(outputs.logits, dim=-1)\n",
    "    predicted_labels = torch.argmax(probabilities, dim=-1)\n",
    "    predicted_classes = []\n",
    "    for value in predicted_labels[0]:\n",
    "        predicted_classes.append(id2label[int(value)])\n",
    "\n",
    "    decoded_tokens = []\n",
    "    decoded_text = \"\"\n",
    "    for i, input_id in enumerate(inputs[\"input_ids\"][0]):\n",
    "        if predicted_labels[0][i] != 0:\n",
    "            decoded_tokens.append(id2label[int(predicted_labels[0][i])])\n",
    "        else:\n",
    "            decoded_tokens.append(tokenizer.decode(input_id))\n",
    "\n",
    "    truncated_decoded_tokens = []\n",
    "\n",
    "    for token in decoded_tokens:\n",
    "        if token == \"[CLS]\" or token == \"[SEP]\":\n",
    "            continue\n",
    "        if token[:2] == \"I-\" and token in id2label.values():\n",
    "            continue \n",
    "        else:\n",
    "            truncated_decoded_tokens.append(token)\n",
    "\n",
    "    decoded_text = tokenizer.convert_tokens_to_string(truncated_decoded_tokens)\n",
    "\n",
    "    print(decoded_text)"
   ]
  },
  {
   "cell_type": "code",
   "execution_count": 17,
   "metadata": {},
   "outputs": [
    {
     "name": "stdout",
     "output_type": "stream",
     "text": [
      "{0: 'O', 1: 'B-CITY', 2: 'I-CITY', 3: 'B-SOCIALNUM', 4: 'I-SOCIALNUM', 5: 'B-CREDITCARDNUMBER', 6: 'I-CREDITCARDNUMBER', 7: 'B-EMAIL', 8: 'I-EMAIL', 9: 'B-IDCARDNUM', 10: 'I-IDCARDNUM', 11: 'B-GIVENNAME', 12: 'I-GIVENNAME', 13: 'B-BUILDINGNUM', 14: 'B-PASSWORD', 15: 'I-PASSWORD', 16: 'B-USERNAME', 17: 'I-USERNAME', 18: 'B-TAXNUM', 19: 'I-TAXNUM', 20: 'B-SURNAME', 21: 'I-SURNAME', 22: 'B-STREET', 23: 'I-STREET', 24: 'B-ZIPCODE', 25: 'I-ZIPCODE', 26: 'B-DATEOFBIRTH', 27: 'I-DATEOFBIRTH', 28: 'B-TELEPHONENUM', 29: 'I-TELEPHONENUM', 30: 'B-ACCOUNTNUM', 31: 'I-ACCOUNTNUM', 32: 'B-DRIVERLICENSENUM', 33: 'I-DRIVERLICENSENUM', 34: 'I-BUILDINGNUM'}\n"
     ]
    }
   ],
   "source": [
    "print(id2label)"
   ]
  },
  {
   "cell_type": "markdown",
   "metadata": {},
   "source": [
    "### Demonstration"
   ]
  },
  {
   "cell_type": "code",
   "execution_count": 18,
   "metadata": {},
   "outputs": [
    {
     "name": "stdout",
     "output_type": "stream",
     "text": [
      "Hello, My name is B-GIVENNAME B-SURNAME. My student ID : B-IDCARDNUM. I am from B-CITY. I am 20 years old. My address is B-CITY, B-BUILDINGNUM, B-CITY.\n"
     ]
    }
   ],
   "source": [
    "text = \"\"\"\n",
    "Hello,\n",
    "My name is Andrii Amitan. My student ID: GH1024543.\n",
    "I am from Ukraine. I am 20 years old.\n",
    "My address is Reiherweg, 4a,\n",
    "Potsdam 14469.\n",
    "\"\"\"\n",
    "output_AM(text)"
   ]
  },
  {
   "cell_type": "code",
   "execution_count": 19,
   "metadata": {},
   "outputs": [
    {
     "name": "stdout",
     "output_type": "stream",
     "text": [
      "Hello, My name is B-GIVENNAME B-SURNAME. I would like to know if you received a payment from this credit card number : B-CREDITCARDNUMBER\n"
     ]
    }
   ],
   "source": [
    "text = \"\"\"\n",
    "Hello,\n",
    "\n",
    "My name is Andrii Amitan. I would like to know if you received a payment from this credit card number:\n",
    "6491736501947563\n",
    "\"\"\"\n",
    "output_AM(text)"
   ]
  },
  {
   "cell_type": "code",
   "execution_count": 20,
   "metadata": {},
   "outputs": [
    {
     "name": "stdout",
     "output_type": "stream",
     "text": [
      "Hello, I would like to know where to send my documents. Is your email : B-EMAIL?\n"
     ]
    }
   ],
   "source": [
    "text = \"\"\"\n",
    "Hello,\n",
    "\n",
    "I would like to know where to send my documents.\n",
    "Is your email: SECRETemail@gmail.com?\n",
    "\"\"\"\n",
    "output_AM(text)"
   ]
  }
 ],
 "metadata": {
  "kernelspec": {
   "display_name": "llm-kernel",
   "language": "python",
   "name": "python3"
  },
  "language_info": {
   "codemirror_mode": {
    "name": "ipython",
    "version": 3
   },
   "file_extension": ".py",
   "mimetype": "text/x-python",
   "name": "python",
   "nbconvert_exporter": "python",
   "pygments_lexer": "ipython3",
   "version": "3.13.2"
  }
 },
 "nbformat": 4,
 "nbformat_minor": 2
}
