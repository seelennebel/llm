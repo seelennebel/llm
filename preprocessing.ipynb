{
 "cells": [
  {
   "cell_type": "code",
   "execution_count": null,
   "id": "056c0687-0df6-4302-a173-a24666cd8f76",
   "metadata": {},
   "outputs": [],
   "source": [
    "import multiprocessing\n",
    "from datasets import load_dataset\n",
    "import pandas as pd\n",
    "import matplotlib.pyplot as plt\n",
    "from transformers import AutoTokenizer\n",
    "from model_checkpoint import model_checkpoint"
   ]
  },
  {
   "cell_type": "markdown",
   "id": "e7c5fd91",
   "metadata": {},
   "source": [
    "### Utility functions"
   ]
  },
  {
   "cell_type": "code",
   "execution_count": null,
   "id": "51cfcb2f",
   "metadata": {},
   "outputs": [],
   "source": [
    "def print_length_correlation(data):\n",
    "        print(\"input_ids -\", len(data[\"input_ids\"]))\n",
    "        print(\"attention_mask -\", len(data[\"attention_mask\"]))\n",
    "        print(\"labels -\", len(data[\"labels\"]))"
   ]
  },
  {
   "cell_type": "markdown",
   "id": "4fbab00a-a3fc-41a1-a8d1-95560ebc1bb2",
   "metadata": {},
   "source": [
    "### Data preprocessing"
   ]
  },
  {
   "cell_type": "code",
   "execution_count": null,
   "id": "2d2b633d",
   "metadata": {},
   "outputs": [],
   "source": [
    "# loading the dataset\n",
    "PII = load_dataset(\"ai4privacy/pii-masking-400k\")\n",
    "\n",
    "# extracting English data points\n",
    "cores = multiprocessing.cpu_count()\n",
    "\n",
    "# how to run them concurrently?\n",
    "PII = PII.filter(lambda example: example[\"language\"] == \"en\", num_proc = cores)\n",
    "\n",
    "# remove unnecessary columns\n",
    "PII = PII.remove_columns([\"locale\", \"language\", \"split\", \"uid\"])"
   ]
  },
  {
   "cell_type": "code",
   "execution_count": null,
   "id": "c7607869",
   "metadata": {},
   "outputs": [],
   "source": [
    "PII"
   ]
  },
  {
   "cell_type": "markdown",
   "id": "efdaa9c9",
   "metadata": {},
   "source": [
    "### Exploratory data analysis"
   ]
  },
  {
   "cell_type": "code",
   "execution_count": null,
   "id": "dce7fbac",
   "metadata": {},
   "outputs": [],
   "source": [
    "def count_classes():\n",
    "    classes = {}\n",
    "\n",
    "    for row in PII[\"train\"]:\n",
    "        for value in row[\"privacy_mask\"]:\n",
    "            if value[\"label\"] not in classes.keys():\n",
    "                classes[value[\"label\"]] = 1\n",
    "            else:\n",
    "                classes[value[\"label\"]] += 1\n",
    "\n",
    "    return classes"
   ]
  },
  {
   "cell_type": "code",
   "execution_count": null,
   "id": "cee8c1f1",
   "metadata": {},
   "outputs": [],
   "source": [
    "def show_class_distribution(classes):\n",
    "    keys = classes.keys()\n",
    "    counts = classes.values()\n",
    "\n",
    "    plt.figure(figsize=(35, 10))\n",
    "    plt.bar(keys, counts, color=\"black\")\n",
    "\n",
    "    plt.xlabel('Classes')\n",
    "    plt.ylabel('Counts')\n",
    "    plt.title('Class Distribution')\n",
    "\n",
    "    plt.show()"
   ]
  },
  {
   "cell_type": "code",
   "execution_count": null,
   "id": "78c5d1a5",
   "metadata": {},
   "outputs": [],
   "source": [
    "show_class_distribution(count_classes())"
   ]
  },
  {
   "cell_type": "code",
   "execution_count": null,
   "id": "5a3df6b7",
   "metadata": {},
   "outputs": [],
   "source": [
    "# shuffle the train dataset\n",
    "PII = PII.shuffle(seed=33)\n",
    "\n",
    "# reduce the train and validation datasets down to approx. 27000 training data points and approx. 12000 validation data points\n",
    "select_train = int(0.40 * len(PII[\"train\"]))\n",
    "select_validation = int(0.70 * len(PII[\"validation\"]))\n",
    "PII[\"train\"] = PII[\"train\"].select(range(select_train))\n",
    "PII[\"validation\"] = PII[\"validation\"].select(range(select_validation))"
   ]
  },
  {
   "cell_type": "code",
   "execution_count": null,
   "id": "c6a7818f",
   "metadata": {},
   "outputs": [],
   "source": [
    "PII"
   ]
  },
  {
   "cell_type": "code",
   "execution_count": null,
   "id": "10ca9461",
   "metadata": {},
   "outputs": [],
   "source": [
    "show_class_distribution(count_classes())"
   ]
  },
  {
   "cell_type": "code",
   "execution_count": null,
   "id": "bf8af786",
   "metadata": {},
   "outputs": [],
   "source": [
    "tokenizer = AutoTokenizer.from_pretrained(model_checkpoint)"
   ]
  },
  {
   "cell_type": "markdown",
   "id": "8d18f0e1",
   "metadata": {},
   "source": [
    "### Adding special tokens([CLS] and [SEP]) to \"mbert_tokens\""
   ]
  },
  {
   "cell_type": "code",
   "execution_count": null,
   "id": "4b071a33",
   "metadata": {},
   "outputs": [],
   "source": [
    "def add_special_tokens(example):\n",
    "    example[\"mbert_tokens\"].insert(0, \"[CLS]\")\n",
    "    example[\"mbert_tokens\"].append(\"[SEP]\")\n",
    "    return example\n",
    "\n",
    "PII = PII.map(add_special_tokens)"
   ]
  },
  {
   "cell_type": "code",
   "execution_count": null,
   "id": "63722c68",
   "metadata": {},
   "outputs": [],
   "source": [
    "print(PII[\"train\"][0][\"mbert_tokens\"])"
   ]
  },
  {
   "cell_type": "markdown",
   "id": "4ee158c5",
   "metadata": {},
   "source": [
    "### Creating \"input_ids\" for \"mbert_tokens\""
   ]
  },
  {
   "cell_type": "code",
   "execution_count": null,
   "id": "85826c6e",
   "metadata": {},
   "outputs": [],
   "source": [
    "def create_ids(example):\n",
    "    example[\"input_ids\"] = tokenizer.convert_tokens_to_ids(example[\"mbert_tokens\"])\n",
    "    return example\n",
    "\n",
    "PII = PII.map(create_ids)"
   ]
  },
  {
   "cell_type": "code",
   "execution_count": null,
   "id": "7e455290",
   "metadata": {},
   "outputs": [],
   "source": [
    "print(PII[\"train\"][0][\"input_ids\"])\n",
    "print(PII[\"train\"][0][\"mbert_tokens\"])"
   ]
  },
  {
   "cell_type": "markdown",
   "id": "06c0a269",
   "metadata": {},
   "source": [
    "### Creating attention masks"
   ]
  },
  {
   "cell_type": "code",
   "execution_count": null,
   "id": "383a5ff3",
   "metadata": {},
   "outputs": [],
   "source": [
    "def create_attention_masks(example):\n",
    "    example[\"attention_mask\"] = [1] * (len(example[\"mbert_tokens\"]))\n",
    "    return example\n",
    "\n",
    "PII = PII.map(create_attention_masks)"
   ]
  },
  {
   "cell_type": "code",
   "execution_count": null,
   "id": "6f90d05e",
   "metadata": {},
   "outputs": [],
   "source": [
    "PII"
   ]
  },
  {
   "cell_type": "markdown",
   "id": "b2d57d99",
   "metadata": {},
   "source": [
    "### Getting available NER classes and assigning unique NER class IDs"
   ]
  },
  {
   "cell_type": "code",
   "execution_count": null,
   "id": "7b7594d1",
   "metadata": {},
   "outputs": [],
   "source": [
    "ner_classes = []\n",
    "ner_ids = {}\n",
    "ID = 0\n",
    "\n",
    "# getting available NER classes\n",
    "for row in PII[\"train\"]:\n",
    "   for token_class in row[\"mbert_token_classes\"]:\n",
    "      if token_class not in ner_classes:\n",
    "         ner_classes.append(token_class)\n",
    "\n",
    "# assigning unique IDs\n",
    "for ner_class in ner_classes:\n",
    "   ner_ids[ner_class] = None\n",
    "\n",
    "for ner_class in ner_ids.keys():\n",
    "   ner_ids[ner_class] = ID\n",
    "   ID+=1"
   ]
  },
  {
   "cell_type": "code",
   "execution_count": null,
   "id": "33db813b",
   "metadata": {},
   "outputs": [],
   "source": [
    "print(ner_classes)\n",
    "print(ner_ids)"
   ]
  },
  {
   "cell_type": "markdown",
   "id": "55721da7",
   "metadata": {},
   "source": [
    "### Creating labels for NER classes"
   ]
  },
  {
   "cell_type": "code",
   "execution_count": null,
   "id": "c0dde7f9",
   "metadata": {},
   "outputs": [],
   "source": [
    "def create_label_list(token_classes):\n",
    "    labels = []\n",
    "    for token_class in token_classes:\n",
    "        labels.append(ner_ids[token_class])\n",
    "    return labels\n",
    "\n",
    "def create_labels(example):\n",
    "    example[\"labels\"] = create_label_list(example[\"mbert_token_classes\"])\n",
    "    return example\n",
    "\n",
    "PII = PII.map(create_labels)"
   ]
  },
  {
   "cell_type": "code",
   "execution_count": null,
   "id": "c0506980",
   "metadata": {},
   "outputs": [],
   "source": [
    "PII"
   ]
  },
  {
   "cell_type": "code",
   "execution_count": null,
   "id": "3603dbf9",
   "metadata": {},
   "outputs": [],
   "source": [
    "print_length_correlation(PII[\"train\"][0])"
   ]
  },
  {
   "cell_type": "code",
   "execution_count": null,
   "id": "c616d4f9",
   "metadata": {},
   "outputs": [],
   "source": [
    "def add_special_labels(example):\n",
    "    example[\"labels\"].insert(0, -100)\n",
    "    example[\"labels\"].append(-100)\n",
    "    return example\n",
    "\n",
    "PII = PII.map(add_special_labels)"
   ]
  },
  {
   "cell_type": "code",
   "execution_count": null,
   "id": "7992af1c",
   "metadata": {},
   "outputs": [],
   "source": [
    "print_length_correlation(PII[\"train\"][0])"
   ]
  },
  {
   "cell_type": "code",
   "execution_count": null,
   "id": "d3999afd",
   "metadata": {},
   "outputs": [],
   "source": [
    "# find the longest input_id\n",
    "\n",
    "def find_longest_id(data):\n",
    "    max_length = 0\n",
    "    for row in data[\"input_ids\"]:\n",
    "        if len(row) > max_length:\n",
    "            max_length = len(row)\n",
    "    return max_length"
   ]
  },
  {
   "cell_type": "code",
   "execution_count": null,
   "id": "43173300",
   "metadata": {},
   "outputs": [],
   "source": [
    "longest_id = find_longest_id(PII[\"train\"])\n",
    "longest_validation_id = find_longest_id(PII[\"validation\"]) \n",
    "if longest_id < longest_validation_id:\n",
    "    longest_id = longest_validation_id "
   ]
  },
  {
   "cell_type": "code",
   "execution_count": null,
   "id": "7fc167d3",
   "metadata": {},
   "outputs": [],
   "source": [
    "def pad(examples):\n",
    "    max_length = longest_id\n",
    "    return tokenizer.pad(examples, padding=\"max_length\", max_length=max_length) \n",
    "\n",
    "PII = PII.map(pad, batched=True)"
   ]
  },
  {
   "cell_type": "code",
   "execution_count": null,
   "id": "038d9527",
   "metadata": {},
   "outputs": [],
   "source": [
    "print(\"input_ids -\", PII[\"train\"][0][\"input_ids\"])\n",
    "print(\"attention_mask -\", PII[\"train\"][0][\"attention_mask\"])"
   ]
  },
  {
   "cell_type": "code",
   "execution_count": null,
   "id": "957f0f2c",
   "metadata": {},
   "outputs": [],
   "source": [
    "print_length_correlation(PII[\"train\"][0])"
   ]
  },
  {
   "cell_type": "code",
   "execution_count": null,
   "id": "28425052",
   "metadata": {},
   "outputs": [],
   "source": [
    "def pad_labels(example):\n",
    "    labels_len = len(example[\"labels\"])\n",
    "    input_ids_len = len(example[\"input_ids\"]) \n",
    "    if labels_len < input_ids_len:\n",
    "        for i in range(input_ids_len - labels_len):\n",
    "            example[\"labels\"].append(-100) \n",
    "    return example\n",
    "\n",
    "PII = PII.map(pad_labels)"
   ]
  },
  {
   "cell_type": "code",
   "execution_count": null,
   "id": "d64e017b",
   "metadata": {},
   "outputs": [],
   "source": [
    "print(\"labels -\", PII[\"train\"][0][\"labels\"])\n",
    "print(\"input_ids -\", PII[\"train\"][0][\"input_ids\"])\n",
    "print(\"attention_mask -\", PII[\"train\"][0][\"attention_mask\"])"
   ]
  },
  {
   "cell_type": "code",
   "execution_count": null,
   "id": "088a1d60",
   "metadata": {},
   "outputs": [],
   "source": [
    "print_length_correlation(PII[\"train\"][0])"
   ]
  },
  {
   "cell_type": "code",
   "execution_count": null,
   "id": "6d791844",
   "metadata": {},
   "outputs": [],
   "source": [
    "label2id = ner_ids\n",
    "print(label2id)"
   ]
  },
  {
   "cell_type": "code",
   "execution_count": null,
   "id": "2fa3e6c5",
   "metadata": {},
   "outputs": [],
   "source": [
    "id2label = {}\n",
    "for value, key in enumerate(ner_ids):\n",
    "    id2label[value] = key\n",
    "\n",
    "print(id2label)"
   ]
  },
  {
   "cell_type": "code",
   "execution_count": null,
   "id": "62fedc21",
   "metadata": {},
   "outputs": [],
   "source": [
    "tokenizer.save_pretrained(\"./preprocessing_tokenizer\")"
   ]
  },
  {
   "cell_type": "code",
   "execution_count": null,
   "id": "c6fd1bc5",
   "metadata": {},
   "outputs": [],
   "source": [
    "PII.save_to_disk(\"./dataset\")"
   ]
  }
 ],
 "metadata": {
  "kernelspec": {
   "display_name": "llm-kernel",
   "language": "python",
   "name": "python3"
  },
  "language_info": {
   "codemirror_mode": {
    "name": "ipython",
    "version": 3
   },
   "file_extension": ".py",
   "mimetype": "text/x-python",
   "name": "python",
   "nbconvert_exporter": "python",
   "pygments_lexer": "ipython3",
   "version": "3.13.2"
  }
 },
 "nbformat": 4,
 "nbformat_minor": 5
}
