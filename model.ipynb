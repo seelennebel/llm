{
 "cells": [
  {
   "cell_type": "markdown",
   "id": "1404b656-a4f6-4152-aac7-a62a02d80a24",
   "metadata": {},
   "source": [
    "### DEPENDENCIES"
   ]
  },
  {
   "cell_type": "code",
   "execution_count": null,
   "id": "056c0687-0df6-4302-a173-a24666cd8f76",
   "metadata": {},
   "outputs": [],
   "source": [
    "import multiprocessing\n",
    "\n",
    "from datasets import load_dataset"
   ]
  },
  {
   "cell_type": "markdown",
   "id": "e7c5fd91",
   "metadata": {},
   "source": [
    "### Utility functions"
   ]
  },
  {
   "cell_type": "code",
   "execution_count": null,
   "id": "51cfcb2f",
   "metadata": {},
   "outputs": [],
   "source": [
    "def print_length_correlation(data):\n",
    "    if data[\"attention_mask\"]:\n",
    "        print(\"input_ids -\", len(data[\"input_ids\"]))\n",
    "        print(\"attention_mask -\", len(data[\"attention_mask\"]))\n",
    "        print(\"labels -\", len(data[\"labels\"]))\n",
    "    else:\n",
    "        print(\"input_ids -\", len(data[\"input_ids\"]))\n",
    "        print(\"labels -\", len(data[\"labels\"]))"
   ]
  },
  {
   "cell_type": "markdown",
   "id": "4fbab00a-a3fc-41a1-a8d1-95560ebc1bb2",
   "metadata": {},
   "source": [
    "### Data preprocessing"
   ]
  },
  {
   "cell_type": "code",
   "execution_count": null,
   "id": "2d2b633d",
   "metadata": {},
   "outputs": [],
   "source": [
    "# loading the dataset\n",
    "PII = load_dataset(\"ai4privacy/pii-masking-400k\")\n",
    "\n",
    "# splitting the dataset into train and validation\n",
    "#ds_t = ds_raw[\"train\"]\n",
    "#ds_v = ds_raw[\"validation\"]\n",
    "\n",
    "# extracting English data points\n",
    "cores = multiprocessing.cpu_count()\n",
    "\n",
    "# how to run them concurrently?\n",
    "PII = PII.filter(lambda example: example[\"language\"] == \"en\", num_proc = cores)\n",
    "\n",
    "# remove unnecessary columns\n",
    "PII = PII.remove_columns([\"locale\", \"language\", \"split\", \"uid\"])\n",
    "\n",
    "# shuffle the train dataset\n",
    "PII = PII.shuffle(seed=33)\n",
    "\n",
    "# reduce the train dataset\n",
    "select_train = int(0.10 * len(PII[\"train\"]))\n",
    "select_validation = int(0.10 * len(PII[\"validation\"]))\n",
    "PII[\"train\"] = PII[\"train\"].select(range(select_train))\n",
    "PII[\"validation\"] = PII[\"validation\"].select(range(select_validation))"
   ]
  },
  {
   "cell_type": "code",
   "execution_count": null,
   "id": "dce7fbac",
   "metadata": {},
   "outputs": [],
   "source": [
    "PII"
   ]
  },
  {
   "cell_type": "code",
   "execution_count": null,
   "id": "bf8af786",
   "metadata": {},
   "outputs": [],
   "source": [
    "from transformers import AutoTokenizer\n",
    "\n",
    "tokenizer = AutoTokenizer.from_pretrained(\"distilbert/distilbert-base-cased\")"
   ]
  },
  {
   "cell_type": "markdown",
   "id": "8d18f0e1",
   "metadata": {},
   "source": [
    "### Adding special tokens([CLS] and [SEP]) to \"mbert_tokens\""
   ]
  },
  {
   "cell_type": "code",
   "execution_count": null,
   "id": "4b071a33",
   "metadata": {},
   "outputs": [],
   "source": [
    "def add_special_tokens(example):\n",
    "    example[\"mbert_tokens\"].insert(0, \"[CLS]\")\n",
    "    example[\"mbert_tokens\"].append(\"[SEP]\")\n",
    "    return example\n",
    "\n",
    "PII = PII.map(add_special_tokens)"
   ]
  },
  {
   "cell_type": "markdown",
   "id": "4ee158c5",
   "metadata": {},
   "source": [
    "### Creating \"input_ids\" for \"mbert_tokens\""
   ]
  },
  {
   "cell_type": "code",
   "execution_count": null,
   "id": "85826c6e",
   "metadata": {},
   "outputs": [],
   "source": [
    "def create_ids(example):\n",
    "    example[\"input_ids\"] = tokenizer.convert_tokens_to_ids(example[\"mbert_tokens\"])\n",
    "    return example\n",
    "\n",
    "PII = PII.map(create_ids)"
   ]
  },
  {
   "cell_type": "markdown",
   "id": "06c0a269",
   "metadata": {},
   "source": [
    "### Creating attention masks"
   ]
  },
  {
   "cell_type": "code",
   "execution_count": null,
   "id": "383a5ff3",
   "metadata": {},
   "outputs": [],
   "source": [
    "def create_attention_masks(example):\n",
    "    example[\"attention_mask\"] = [1] * (len(example[\"mbert_tokens\"]))\n",
    "    return example\n",
    "\n",
    "PII = PII.map(create_attention_masks)"
   ]
  },
  {
   "cell_type": "code",
   "execution_count": null,
   "id": "6f90d05e",
   "metadata": {},
   "outputs": [],
   "source": [
    "PII"
   ]
  },
  {
   "cell_type": "markdown",
   "id": "b2d57d99",
   "metadata": {},
   "source": [
    "### Getting available NER classes and assigning unique NER class IDs"
   ]
  },
  {
   "cell_type": "code",
   "execution_count": null,
   "id": "7b7594d1",
   "metadata": {},
   "outputs": [],
   "source": [
    "ner_classes = []\n",
    "ner_ids = {}\n",
    "ID = 0\n",
    "\n",
    "# getting available NER classes\n",
    "for row in PII[\"train\"]:\n",
    "   for token_class in row[\"mbert_token_classes\"]:\n",
    "      if token_class not in ner_classes:\n",
    "         ner_classes.append(token_class)\n",
    "\n",
    "# assigning unique IDs\n",
    "for ner_class in ner_classes:\n",
    "   ner_ids[ner_class] = None\n",
    "\n",
    "for ner_class in ner_ids.keys():\n",
    "   ner_ids[ner_class] = ID\n",
    "   ID+=1"
   ]
  },
  {
   "cell_type": "code",
   "execution_count": null,
   "id": "33db813b",
   "metadata": {},
   "outputs": [],
   "source": [
    "print(ner_classes)\n",
    "print(ner_ids)"
   ]
  },
  {
   "cell_type": "markdown",
   "id": "55721da7",
   "metadata": {},
   "source": [
    "### Creating labels for NER classes"
   ]
  },
  {
   "cell_type": "code",
   "execution_count": null,
   "id": "c0dde7f9",
   "metadata": {},
   "outputs": [],
   "source": [
    "def create_label_list(token_classes):\n",
    "    labels = []\n",
    "    for token_class in token_classes:\n",
    "        labels.append(ner_ids[token_class])\n",
    "    return labels\n",
    "\n",
    "def create_labels(example):\n",
    "    example[\"labels\"] = create_label_list(example[\"mbert_token_classes\"])\n",
    "    return example\n",
    "\n",
    "PII = PII.map(create_labels)"
   ]
  },
  {
   "cell_type": "code",
   "execution_count": null,
   "id": "c0506980",
   "metadata": {},
   "outputs": [],
   "source": [
    "PII"
   ]
  },
  {
   "cell_type": "code",
   "execution_count": null,
   "id": "3603dbf9",
   "metadata": {},
   "outputs": [],
   "source": [
    "print_length_correlation(PII[\"train\"][0])"
   ]
  },
  {
   "cell_type": "code",
   "execution_count": null,
   "id": "c616d4f9",
   "metadata": {},
   "outputs": [],
   "source": [
    "def add_special_labels(example):\n",
    "    example[\"labels\"].insert(0, -100)\n",
    "    example[\"labels\"].append(-100)\n",
    "    return example\n",
    "\n",
    "PII = PII.map(add_special_labels)"
   ]
  },
  {
   "cell_type": "code",
   "execution_count": null,
   "id": "7992af1c",
   "metadata": {},
   "outputs": [],
   "source": [
    "print_length_correlation(PII[\"train\"][0])"
   ]
  },
  {
   "cell_type": "code",
   "execution_count": null,
   "id": "d3999afd",
   "metadata": {},
   "outputs": [],
   "source": [
    "# find the longest input_id\n",
    "\n",
    "def longest_id(data):\n",
    "    max_length = 0\n",
    "    for row in data[\"input_ids\"]:\n",
    "        if len(row) > max_length:\n",
    "            max_length = len(row)\n",
    "    return max_length"
   ]
  },
  {
   "cell_type": "code",
   "execution_count": null,
   "id": "43173300",
   "metadata": {},
   "outputs": [],
   "source": [
    "print(longest_id(PII[\"train\"]))"
   ]
  },
  {
   "cell_type": "code",
   "execution_count": null,
   "id": "09b6c3a6",
   "metadata": {},
   "outputs": [],
   "source": [
    "print(longest_id(PII[\"validation\"]))"
   ]
  },
  {
   "cell_type": "code",
   "execution_count": null,
   "id": "7fc167d3",
   "metadata": {},
   "outputs": [],
   "source": [
    "def pad(examples):\n",
    "    max_length = 512\n",
    "    return tokenizer.pad(examples, padding=\"max_length\", max_length=max_length) \n",
    "\n",
    "PII = PII.map(pad, batched=True)"
   ]
  },
  {
   "cell_type": "code",
   "execution_count": null,
   "id": "957f0f2c",
   "metadata": {},
   "outputs": [],
   "source": [
    "print_length_correlation(PII[\"train\"][0])"
   ]
  },
  {
   "cell_type": "code",
   "execution_count": null,
   "id": "28425052",
   "metadata": {},
   "outputs": [],
   "source": [
    "def pad_labels(example):\n",
    "    labels_len = len(example[\"labels\"])\n",
    "    input_ids_len = len(example[\"input_ids\"]) \n",
    "    if labels_len < input_ids_len:\n",
    "        for i in range(input_ids_len - labels_len):\n",
    "            example[\"labels\"].append(-100) \n",
    "    return example\n",
    "\n",
    "PII = PII.map(pad_labels)"
   ]
  },
  {
   "cell_type": "code",
   "execution_count": null,
   "id": "088a1d60",
   "metadata": {},
   "outputs": [],
   "source": [
    "print_length_correlation(PII[\"train\"][0])"
   ]
  },
  {
   "cell_type": "code",
   "execution_count": null,
   "id": "4df23fa9",
   "metadata": {},
   "outputs": [],
   "source": [
    "from transformers import DataCollatorForTokenClassification\n",
    "data_collator = DataCollatorForTokenClassification(tokenizer=tokenizer)"
   ]
  },
  {
   "cell_type": "code",
   "execution_count": null,
   "id": "6d791844",
   "metadata": {},
   "outputs": [],
   "source": [
    "label2id = ner_ids\n",
    "print(label2id)"
   ]
  },
  {
   "cell_type": "code",
   "execution_count": null,
   "id": "2fa3e6c5",
   "metadata": {},
   "outputs": [],
   "source": [
    "id2label = {}\n",
    "for value, key in enumerate(ner_ids):\n",
    "    id2label[value] = key\n",
    "\n",
    "print(id2label)"
   ]
  },
  {
   "cell_type": "code",
   "execution_count": null,
   "id": "dc00ef22",
   "metadata": {},
   "outputs": [],
   "source": [
    "from transformers import AutoModelForTokenClassification, TrainingArguments, Trainer"
   ]
  },
  {
   "cell_type": "code",
   "execution_count": null,
   "id": "da020cbb",
   "metadata": {},
   "outputs": [],
   "source": [
    "model = AutoModelForTokenClassification.from_pretrained(\n",
    "    \"distilbert/distilbert-base-cased\", num_labels=35, id2label=id2label, label2id=label2id\n",
    ")"
   ]
  },
  {
   "cell_type": "code",
   "execution_count": null,
   "id": "e9e2347e",
   "metadata": {},
   "outputs": [],
   "source": [
    "training_args = TrainingArguments(\n",
    "    output_dir=\"OG_model\",\n",
    "    learning_rate=2e-5,\n",
    "    per_device_train_batch_size=16,\n",
    "    per_device_eval_batch_size=16,\n",
    "    num_train_epochs=2,\n",
    "    weight_decay=0.01,\n",
    "    eval_strategy=\"epoch\",\n",
    "    save_strategy=\"epoch\",\n",
    "    load_best_model_at_end=True,\n",
    "    push_to_hub=False\n",
    ")\n",
    "\n",
    "trainer = Trainer(\n",
    "    model=model,\n",
    "    args=training_args,\n",
    "    train_dataset=PII[\"train\"],\n",
    "    eval_dataset=PII[\"validation\"],\n",
    "    processing_class=tokenizer\n",
    ")\n",
    "\n",
    "trainer.train()"
   ]
  }
 ],
 "metadata": {
  "kernelspec": {
   "display_name": "llm-kernel",
   "language": "python",
   "name": "python3"
  },
  "language_info": {
   "codemirror_mode": {
    "name": "ipython",
    "version": 3
   },
   "file_extension": ".py",
   "mimetype": "text/x-python",
   "name": "python",
   "nbconvert_exporter": "python",
   "pygments_lexer": "ipython3",
   "version": "3.13.2"
  }
 },
 "nbformat": 4,
 "nbformat_minor": 5
}
